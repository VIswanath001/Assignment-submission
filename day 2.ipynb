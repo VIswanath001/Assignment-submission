{
 "cells": [
  {
   "cell_type": "code",
   "execution_count": 1,
   "metadata": {},
   "outputs": [],
   "source": [
    "import matplotlib.pyplot as plt\n",
    "import numpy as np\n",
    "import pandas as pd\n",
    "%matplotlib inline\n",
    "import seaborn as sns\n",
    "from numpy.random import randn, randint, uniform, sample"
   ]
  },
  {
   "cell_type": "code",
   "execution_count": 2,
   "metadata": {},
   "outputs": [
    {
     "data": {
      "text/html": [
       "<div>\n",
       "<style scoped>\n",
       "    .dataframe tbody tr th:only-of-type {\n",
       "        vertical-align: middle;\n",
       "    }\n",
       "\n",
       "    .dataframe tbody tr th {\n",
       "        vertical-align: top;\n",
       "    }\n",
       "\n",
       "    .dataframe thead th {\n",
       "        text-align: right;\n",
       "    }\n",
       "</style>\n",
       "<table border=\"1\" class=\"dataframe\">\n",
       "  <thead>\n",
       "    <tr style=\"text-align: right;\">\n",
       "      <th></th>\n",
       "      <th>a</th>\n",
       "      <th>b</th>\n",
       "      <th>c</th>\n",
       "      <th>d</th>\n",
       "    </tr>\n",
       "  </thead>\n",
       "  <tbody>\n",
       "    <tr>\n",
       "      <th>0</th>\n",
       "      <td>0.892026</td>\n",
       "      <td>-1.342099</td>\n",
       "      <td>1.437185</td>\n",
       "      <td>-0.258789</td>\n",
       "    </tr>\n",
       "    <tr>\n",
       "      <th>1</th>\n",
       "      <td>-1.024697</td>\n",
       "      <td>-0.734982</td>\n",
       "      <td>-0.204459</td>\n",
       "      <td>-0.517347</td>\n",
       "    </tr>\n",
       "    <tr>\n",
       "      <th>2</th>\n",
       "      <td>1.114741</td>\n",
       "      <td>1.719293</td>\n",
       "      <td>0.060069</td>\n",
       "      <td>-0.975701</td>\n",
       "    </tr>\n",
       "    <tr>\n",
       "      <th>3</th>\n",
       "      <td>-1.167235</td>\n",
       "      <td>-0.903068</td>\n",
       "      <td>0.783417</td>\n",
       "      <td>-0.994403</td>\n",
       "    </tr>\n",
       "    <tr>\n",
       "      <th>4</th>\n",
       "      <td>0.000382</td>\n",
       "      <td>-0.012977</td>\n",
       "      <td>2.070911</td>\n",
       "      <td>-0.527120</td>\n",
       "    </tr>\n",
       "    <tr>\n",
       "      <th>5</th>\n",
       "      <td>-0.165799</td>\n",
       "      <td>0.339172</td>\n",
       "      <td>0.084140</td>\n",
       "      <td>-0.329253</td>\n",
       "    </tr>\n",
       "    <tr>\n",
       "      <th>6</th>\n",
       "      <td>-1.751586</td>\n",
       "      <td>1.654593</td>\n",
       "      <td>0.290782</td>\n",
       "      <td>-0.288941</td>\n",
       "    </tr>\n",
       "    <tr>\n",
       "      <th>7</th>\n",
       "      <td>0.830777</td>\n",
       "      <td>-0.841134</td>\n",
       "      <td>-0.915363</td>\n",
       "      <td>-0.630137</td>\n",
       "    </tr>\n",
       "    <tr>\n",
       "      <th>8</th>\n",
       "      <td>2.721570</td>\n",
       "      <td>0.989548</td>\n",
       "      <td>0.733408</td>\n",
       "      <td>0.811372</td>\n",
       "    </tr>\n",
       "    <tr>\n",
       "      <th>9</th>\n",
       "      <td>0.667706</td>\n",
       "      <td>-0.415492</td>\n",
       "      <td>-1.481693</td>\n",
       "      <td>0.454391</td>\n",
       "    </tr>\n",
       "  </tbody>\n",
       "</table>\n",
       "</div>"
      ],
      "text/plain": [
       "          a         b         c         d\n",
       "0  0.892026 -1.342099  1.437185 -0.258789\n",
       "1 -1.024697 -0.734982 -0.204459 -0.517347\n",
       "2  1.114741  1.719293  0.060069 -0.975701\n",
       "3 -1.167235 -0.903068  0.783417 -0.994403\n",
       "4  0.000382 -0.012977  2.070911 -0.527120\n",
       "5 -0.165799  0.339172  0.084140 -0.329253\n",
       "6 -1.751586  1.654593  0.290782 -0.288941\n",
       "7  0.830777 -0.841134 -0.915363 -0.630137\n",
       "8  2.721570  0.989548  0.733408  0.811372\n",
       "9  0.667706 -0.415492 -1.481693  0.454391"
      ]
     },
     "execution_count": 2,
     "metadata": {},
     "output_type": "execute_result"
    }
   ],
   "source": [
    "df=pd.DataFrame(randn(10,4), columns=['a','b','c','d'])\n",
    "df\n"
   ]
  },
  {
   "cell_type": "code",
   "execution_count": 19,
   "metadata": {},
   "outputs": [
    {
     "data": {
      "image/png": "[encoded data removed]",
      "text/plain": [
       "<Figure size 720x720 with 1 Axes>"
      ]
     },
     "metadata": {
      "needs_background": "light"
     },
     "output_type": "display_data"
    }
   ],
   "source": [
    "df.plot(kind='bar',title='Bar Chart',figsize=(10,10))\n",
    "plt.grid()"
   ]
  },
  {
   "cell_type": "code",
   "execution_count": null,
   "metadata": {},
   "outputs": [],
   "source": []
  }
 ],
 "metadata": {
  "kernelspec": {
   "display_name": "Python 3",
   "language": "python",
   "name": "python3"
  },
  "language_info": {
   "codemirror_mode": {
    "name": "ipython",
    "version": 3
   },
   "file_extension": ".py",
   "mimetype": "text/x-python",
   "name": "python",
   "nbconvert_exporter": "python",
   "pygments_lexer": "ipython3",
   "version": "3.8.5"
  }
 },
 "nbformat": 4,
 "nbformat_minor": 4
}
